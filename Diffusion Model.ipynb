{
 "cells": [
  {
   "cell_type": "code",
   "execution_count": null,
   "id": "71e5a062",
   "metadata": {},
   "outputs": [],
   "source": [
    "# So the core idea of a diffusion model: I give you an input, and you tell me what\n",
    "# noise has been applied to that image. Then we do some complicated math to compute the\n",
    "# loss function and run gradient descent. Easy enough.\n",
    "\n",
    "# Here's a question. Do you need all of the layers? Do you need self attention? "
   ]
  }
 ],
 "metadata": {
  "kernelspec": {
   "display_name": "Python 3 (ipykernel)",
   "language": "python",
   "name": "python3"
  },
  "language_info": {
   "codemirror_mode": {
    "name": "ipython",
    "version": 3
   },
   "file_extension": ".py",
   "mimetype": "text/x-python",
   "name": "python",
   "nbconvert_exporter": "python",
   "pygments_lexer": "ipython3",
   "version": "3.10.4"
  }
 },
 "nbformat": 4,
 "nbformat_minor": 5
}
