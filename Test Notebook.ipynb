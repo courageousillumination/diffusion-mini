{
 "cells": [
  {
   "cell_type": "code",
   "execution_count": 33,
   "id": "ad8c9183",
   "metadata": {},
   "outputs": [],
   "source": [
    "import torchvision\n",
    "import torch\n",
    "import matplotlib.pyplot as plt"
   ]
  },
  {
   "cell_type": "code",
   "execution_count": 41,
   "id": "37dd8bc2",
   "metadata": {},
   "outputs": [],
   "source": [
    "def display_tensor(tensor):\n",
    "    \"\"\"Displays a tensor\"\"\"\n",
    "    plt.imshow(tensor,  cmap='gray', interpolation='none')\n",
    "    # display(torchvision.transforms.ToPILImage()(tensor))"
   ]
  },
  {
   "cell_type": "code",
   "execution_count": 45,
   "id": "e6377015",
   "metadata": {},
   "outputs": [],
   "source": [
    "# Transform pipeline: The data that comes back is in MNIST format. We want to transform\n",
    "# it into normalized tensors for later computation\n",
    "transform_pipeline = torchvision.transforms.Compose([torchvision.transforms.ToTensor()])\n",
    "\n",
    "\n",
    "# Set up the data sources\n",
    "train_data = torchvision.datasets.MNIST('data/', train=True, download=True, transform=transform_pipeline)\n",
    "test_data = torchvision.datasets.MNIST('data/', train=False, download=True, transform=transform_pipeline)\n",
    "\n",
    "# Set up data loaders (samplers + the data set)\n",
    "train_loader = torch.utils.data.DataLoader(train_data)\n",
    "test_loader = torch.utils.data.DataLoader(test_data)"
   ]
  },
  {
   "cell_type": "code",
   "execution_count": 47,
   "id": "d5a4f1b5",
   "metadata": {},
   "outputs": [],
   "source": [
    "class Autoencoder(torch.nn.Module):\n",
    "    def __init__(self, input_shape, latent_size, hidden_size=128):\n",
    "        super().__init__()\n",
    "        self.encoder_hidden = torch.nn.Linear(in_features=input_shape, out_features=hidden_size)\n",
    "        self.encoder_output = torch.nn.Linear(in_features=hidden_size, out_features=latent_size)\n",
    "\n",
    "        self.decoder_hidden = torch.nn.Linear(in_features=latent_size, out_features=hidden_size)\n",
    "        self.decoder_output = torch.nn.Linear(in_features=hidden_size, out_features=input_shape)\n",
    "\n",
    "        \n",
    "    def encode(self, x):\n",
    "        \"\"\"Encode using the encoder portion of the auto encoder.\"\"\"\n",
    "        x = self.encoder_hidden(x)\n",
    "        x = torch.relu(x)\n",
    "        x = self.encoder_output(x)\n",
    "        x = torch.relu(x)\n",
    "        return x\n",
    "    \n",
    "    def decode(self, x):\n",
    "        \"\"\"Decode using the decoder portion of the auto encoder.\"\"\"\n",
    "        x = self.decoder_hidden(x)\n",
    "        x = torch.relu(x)\n",
    "        x = self.decoder_output(x)\n",
    "        x = torch.relu(x)\n",
    "        return x\n",
    "        \n",
    "    def forward(self, x):\n",
    "        \"\"\"Run the entire auto encoder/decoder pair together.\"\"\"\n",
    "        code = self.encode(x)\n",
    "        reconstructed = self.decode(code)\n",
    "        return reconstructed"
   ]
  },
  {
   "cell_type": "code",
   "execution_count": 118,
   "id": "372442f8",
   "metadata": {},
   "outputs": [],
   "source": [
    "model = Autoencoder(input_shape=28*28, latent_size=32, hidden_size=128)\n",
    "optimizer = torch.optim.Adam(model.parameters(), lr=1e-3) # TODO: Research the optimizer.\n",
    "criterion = torch.nn.MSELoss()\n",
    "epochs = 3"
   ]
  },
  {
   "cell_type": "code",
   "execution_count": 119,
   "id": "6557c9bf",
   "metadata": {
    "scrolled": true
   },
   "outputs": [
    {
     "name": "stdout",
     "output_type": "stream",
     "text": [
      "0\n",
      "10000\n",
      "20000\n",
      "30000\n",
      "40000\n",
      "50000\n",
      "epoch : 1/3, loss = 0.033049\n",
      "0\n",
      "10000\n",
      "20000\n",
      "30000\n",
      "40000\n",
      "50000\n",
      "epoch : 2/3, loss = 0.028495\n",
      "0\n",
      "10000\n",
      "20000\n",
      "30000\n",
      "40000\n",
      "50000\n",
      "epoch : 3/3, loss = 0.027720\n"
     ]
    }
   ],
   "source": [
    "for epoch in range(epochs):\n",
    "    loss = 0\n",
    "    for i, (batch_features, _) in enumerate(train_loader):\n",
    "        batch_features = batch_features.view(-1, 784)\n",
    "        optimizer.zero_grad()\n",
    "        \n",
    "        outputs = model(batch_features)\n",
    "        train_loss = criterion(outputs, batch_features)\n",
    "        train_loss.backward()\n",
    "        \n",
    "        optimizer.step()\n",
    "        \n",
    "        loss += train_loss.item()\n",
    "        \n",
    "        if i % 10000 == 0:\n",
    "            print(i)\n",
    "        \n",
    "    \n",
    "    loss = loss / len(train_loader)\n",
    "    \n",
    "    print(\"epoch : {}/{}, loss = {:.6f}\".format(epoch + 1, epochs, loss))"
   ]
  },
  {
   "cell_type": "code",
   "execution_count": 85,
   "id": "98bb695a",
   "metadata": {},
   "outputs": [
    {
     "data": {
      "image/png": "[encoded data removed]",
      "text/plain": [
       "<Figure size 640x480 with 1 Axes>"
      ]
     },
     "metadata": {},
     "output_type": "display_data"
    }
   ],
   "source": [
    "d = next(enumerate(test_loader))[1][0]\n",
    "reconstructed = model(d.view(-1, 28 *28))\n",
    "display_tensor(d.view(28,28))\n"
   ]
  },
  {
   "cell_type": "code",
   "execution_count": 125,
   "id": "736c39c0",
   "metadata": {
    "scrolled": true
   },
   "outputs": [
    {
     "name": "stdout",
     "output_type": "stream",
     "text": [
      "tensor(16)\n",
      "tensor([[0.0000, 0.0000, 0.0000, 0.0000, 0.0000, 1.5205, 1.7814, 1.3869, 1.5020,\n",
      "         0.0000, 0.0000, 0.0000, 0.6847, 0.0000, 0.0000, 1.0433, 0.0000, 0.0000,\n",
      "         1.6884, 0.0000, 0.8677, 0.0000, 0.0000, 0.0358, 0.1573, 0.4990, 0.4255,\n",
      "         0.0000, 0.9839, 1.1741, 0.5621, 2.5258]], grad_fn=<ReluBackward0>)\n"
     ]
    },
    {
     "data": {
      "image/png": "[encoded data removed]",
      "text/plain": [
       "<Figure size 640x480 with 1 Axes>"
      ]
     },
     "metadata": {},
     "output_type": "display_data"
    }
   ],
   "source": [
    "base = model.encode(d.view(-1, 28 *28))\n",
    "\n",
    "print(torch.count_nonzero(base))\n",
    "\n",
    "print(base)\n",
    "\n",
    "delta = torch.zeros(128)\n",
    "\n",
    "\n",
    "display_tensor(model.decode(torch.rand(32)).view(28, 28).detach())\n",
    "\n",
    "\n",
    "torch.save(model.state_dict(), 'model-data2.pkl')"
   ]
  }
 ],
 "metadata": {
  "kernelspec": {
   "display_name": "Python 3 (ipykernel)",
   "language": "python",
   "name": "python3"
  },
  "language_info": {
   "codemirror_mode": {
    "name": "ipython",
    "version": 3
   },
   "file_extension": ".py",
   "mimetype": "text/x-python",
   "name": "python",
   "nbconvert_exporter": "python",
   "pygments_lexer": "ipython3",
   "version": "3.10.4"
  }
 },
 "nbformat": 4,
 "nbformat_minor": 5
}
